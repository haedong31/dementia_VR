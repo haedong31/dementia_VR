{
 "cells": [
  {
   "cell_type": "code",
   "execution_count": 1,
   "id": "8287fa1f",
   "metadata": {},
   "outputs": [],
   "source": [
    "from pathlib import Path"
   ]
  },
  {
   "cell_type": "markdown",
   "id": "9ab563b4",
   "metadata": {},
   "source": [
    "## Read data and encode characters with numbers"
   ]
  },
  {
   "cell_type": "code",
   "execution_count": 7,
   "id": "917f876f",
   "metadata": {},
   "outputs": [],
   "source": [
    "data_dir = Path.cwd()/'data'\n",
    "\n",
    "hc = []\n",
    "with open(data_dir/'hra_hc.txt', 'r') as f: # healthy control\n",
    "    for l in f:    \n",
    "        hc.append(l.rstrip('\\n'))\n",
    "\n",
    "ad = []\n",
    "with open(data_dir/'hra_ad.txt', 'r') as f: # Alzheimer's disease\n",
    "    for l in f:\n",
    "        ad.append(l.rstrip('\\n'))"
   ]
  },
  {
   "cell_type": "code",
   "execution_count": null,
   "id": "1b67964f",
   "metadata": {},
   "outputs": [],
   "source": [
    "cha_hc = []\n",
    "for s in hc:\n",
    "    w in s:\n",
    "        c in w:\n",
    "            "
   ]
  }
 ],
 "metadata": {
  "kernelspec": {
   "display_name": "Python 3 (ipykernel)",
   "language": "python",
   "name": "python3"
  },
  "language_info": {
   "codemirror_mode": {
    "name": "ipython",
    "version": 3
   },
   "file_extension": ".py",
   "mimetype": "text/x-python",
   "name": "python",
   "nbconvert_exporter": "python",
   "pygments_lexer": "ipython3",
   "version": "3.9.7"
  }
 },
 "nbformat": 4,
 "nbformat_minor": 5
}
