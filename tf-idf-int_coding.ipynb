{
 "cells": [
  {
   "cell_type": "code",
   "execution_count": 30,
   "id": "abedaa89",
   "metadata": {},
   "outputs": [],
   "source": [
    "import pandas as pd\n",
    "from pathlib import Path\n",
    "from sklearn.feature_extraction.text import TfidfVectorizer"
   ]
  },
  {
   "cell_type": "code",
   "execution_count": 81,
   "id": "ff8a4507",
   "metadata": {},
   "outputs": [],
   "source": [
    "hc_files = Path('./data/hra/control').glob('*.csv')\n",
    "ad_files = Path('./data/hra/dementia').glob('*.csv')\n",
    "\n",
    "lower_list = [chr(x) for x in range(97, 123)]\n",
    "digit2id_list = list(range(10,33))\n",
    "\n",
    "hc = []\n",
    "for f in hc_files:\n",
    "    df = pd.read_csv(f)\n",
    "    s = df['x']\n",
    "    \n",
    "    for i in range(len(digit2id_list)):\n",
    "        s = s.replace(digit2id_list[i], lower_list[i])\n",
    "        \n",
    "    hc.append(''.join([str(c) for c in s.to_list()]))\n",
    "    \n",
    "ad = []\n",
    "for f in ad_files:\n",
    "    df = pd.read_csv(f)\n",
    "    s = df['x']\n",
    "    \n",
    "    for i in range(len(digit2id_list)):\n",
    "        s = s.replace(digit2id_list[i], lower_list[i])\n",
    "        \n",
    "    ad.append(''.join([str(i) for i in s.to_list()]))"
   ]
  },
  {
   "cell_type": "code",
   "execution_count": 83,
   "id": "769ced84",
   "metadata": {},
   "outputs": [],
   "source": [
    "char_vectorizer_hc = TfidfVectorizer(\n",
    "    analyzer='char',\n",
    "    ngram_range=(1,1),\n",
    "    sublinear_tf=True)\n",
    "\n",
    "char_vectorizer_ad = TfidfVectorizer(\n",
    "    analyzer='char',\n",
    "    ngram_range=(1,1),\n",
    "    sublinear_tf=True)\n",
    "\n",
    "tfidf_hc = char_vectorizer_hc.fit_transform(hc)\n",
    "tfidf_ad = char_vectorizer_ad.fit_transform(ad)"
   ]
  },
  {
   "cell_type": "code",
   "execution_count": 90,
   "id": "aee9d84b",
   "metadata": {},
   "outputs": [],
   "source": [
    "tfidf_mx_hc = pd.DataFrame(data=tfidf_hc.toarray(), columns=char_vectorizer_hc.get_feature_names())\n",
    "tfidf_mx_ad = pd.DataFrame(data=tfidf_ad.toarray(), columns=char_vectorizer_ad.get_feature_names())"
   ]
  },
  {
   "cell_type": "code",
   "execution_count": 94,
   "id": "9f5bcd48",
   "metadata": {},
   "outputs": [
    {
     "data": {
      "text/plain": [
       "0    0.280373\n",
       "1    0.080140\n",
       "2    0.000000\n",
       "3    0.151603\n",
       "4    0.178805\n",
       "5    0.000000\n",
       "6    0.206828\n",
       "7    0.144234\n",
       "8    0.159150\n",
       "9    0.166291\n",
       "a    0.251051\n",
       "b    0.139115\n",
       "c    0.162557\n",
       "d    0.216325\n",
       "e    0.223164\n",
       "f    0.099152\n",
       "g    0.130225\n",
       "h    0.172966\n",
       "i    0.182590\n",
       "j    0.208309\n",
       "k    0.223164\n",
       "l    0.140204\n",
       "m    0.000000\n",
       "n    0.212489\n",
       "o    0.225237\n",
       "p    0.239161\n",
       "q    0.163225\n",
       "r    0.115969\n",
       "s    0.154053\n",
       "t    0.158883\n",
       "u    0.143644\n",
       "v    0.269012\n",
       "Name: 0, dtype: float64"
      ]
     },
     "execution_count": 94,
     "metadata": {},
     "output_type": "execute_result"
    }
   ],
   "source": [
    "tfidf_mx_hc.iloc[0,:]"
   ]
  },
  {
   "cell_type": "code",
   "execution_count": 87,
   "id": "db710cee",
   "metadata": {},
   "outputs": [
    {
     "data": {
      "text/plain": [
       "array([[0.28037288, 0.08014014, 0.        , ..., 0.15888259, 0.14364403,\n",
       "        0.26901161],\n",
       "       [0.30009646, 0.        , 0.        , ..., 0.17902809, 0.14673662,\n",
       "        0.        ],\n",
       "       [0.29609068, 0.15338922, 0.13846977, ..., 0.        , 0.15534066,\n",
       "        0.        ],\n",
       "       ...,\n",
       "       [0.28986808, 0.        , 0.        , ..., 0.15663642, 0.13547263,\n",
       "        0.        ],\n",
       "       [0.28562943, 0.07882173, 0.12047608, ..., 0.15626877, 0.12808242,\n",
       "        0.        ],\n",
       "       [0.28905423, 0.        , 0.        , ..., 0.        , 0.13280954,\n",
       "        0.        ]])"
      ]
     },
     "execution_count": 87,
     "metadata": {},
     "output_type": "execute_result"
    }
   ],
   "source": [
    "for n,row in tfidf_mx_hc:\n",
    "    \n",
    "    "
   ]
  }
 ],
 "metadata": {
  "kernelspec": {
   "display_name": "Python 3 (ipykernel)",
   "language": "python",
   "name": "python3"
  },
  "language_info": {
   "codemirror_mode": {
    "name": "ipython",
    "version": 3
   },
   "file_extension": ".py",
   "mimetype": "text/x-python",
   "name": "python",
   "nbconvert_exporter": "python",
   "pygments_lexer": "ipython3",
   "version": "3.9.7"
  }
 },
 "nbformat": 4,
 "nbformat_minor": 5
}
