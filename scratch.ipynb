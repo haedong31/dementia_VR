{
 "cells": [
  {
   "cell_type": "code",
   "execution_count": 1,
   "id": "624d571b",
   "metadata": {},
   "outputs": [],
   "source": [
    "import pylangacq\n",
    "import pandas as pd\n",
    "import matplotlib.pyplot as plt\n",
    "from pathlib import Path"
   ]
  },
  {
   "cell_type": "code",
   "execution_count": 2,
   "id": "131dd30e",
   "metadata": {},
   "outputs": [
    {
     "name": "stdout",
     "output_type": "stream",
     "text": [
      "Number of participants (Control): 243\n",
      "Number of participants (Dementia): 309\n"
     ]
    }
   ],
   "source": [
    "hc = pylangacq.read_chat('./data/DementiaBank/Pitt/Control/cookie') # healthy control\n",
    "ad = pylangacq.read_chat('./data/DementiaBank/Pitt/Dementia/cookie') # Alzheimer's disease\n",
    "\n",
    "print(f'Number of participants (Control): {hc.n_files()}')\n",
    "print(f'Number of participants (Dementia): {ad.n_files()}')"
   ]
  },
  {
   "cell_type": "markdown",
   "id": "58bba53e",
   "metadata": {},
   "source": [
    "## Histograms of utterances and wordsm"
   ]
  },
  {
   "cell_type": "code",
   "execution_count": 3,
   "id": "f39579ae",
   "metadata": {},
   "outputs": [],
   "source": [
    "numu_hc = []\n",
    "numw_hc = []\n",
    "for f in hc:\n",
    "    numu_hc.append(len(f.utterances(participants='PAR')))\n",
    "    numw_hc.append(len(f.words(participants='PAR')))\n",
    "    \n",
    "numu_ad = []\n",
    "numw_ad = []\n",
    "for f in ad:\n",
    "    numu_ad.append(len(f.utterances(participants='PAR')))\n",
    "    numw_ad.append(len(f.words(participants='PAR')))"
   ]
  },
  {
   "cell_type": "code",
   "execution_count": 4,
   "id": "9d51af7f",
   "metadata": {},
   "outputs": [
    {
     "data": {
      "text/plain": [
       "Text(0.5, 1.0, 'Histogram of Utterances')"
      ]
     },
     "execution_count": 4,
     "metadata": {},
     "output_type": "execute_result"
    },
    {
     "data": {
      "image/png": "[encoded data removed]",
      "text/plain": [
       "<Figure size 432x288 with 1 Axes>"
      ]
     },
     "metadata": {
      "needs_background": "light"
     },
     "output_type": "display_data"
    }
   ],
   "source": [
    "plt.hist(numu_hc, bins='auto', color='blue', alpha=0.5, rwidth=0.9)\n",
    "plt.hist(numu_ad, bins='auto', color='red', alpha=0.5, rwidth=0.9)\n",
    "plt.grid()\n",
    "plt.legend(['Control','Dementia'])\n",
    "plt.xlabel('Number of utterances')\n",
    "plt.ylabel('Frequency')\n",
    "plt.title('Histogram of Utterances')"
   ]
  },
  {
   "cell_type": "code",
   "execution_count": 5,
   "id": "166f54b4",
   "metadata": {},
   "outputs": [
    {
     "data": {
      "text/plain": [
       "Text(0.5, 1.0, 'Histogram of Words')"
      ]
     },
     "execution_count": 5,
     "metadata": {},
     "output_type": "execute_result"
    },
    {
     "data": {
      "image/png": "[encoded data removed]",
      "text/plain": [
       "<Figure size 432x288 with 1 Axes>"
      ]
     },
     "metadata": {
      "needs_background": "light"
     },
     "output_type": "display_data"
    }
   ],
   "source": [
    "plt.hist(numw_hc, bins='auto', color='blue', alpha=0.5, rwidth=0.9)\n",
    "plt.hist(numw_ad, bins='auto', color='red', alpha=0.5, rwidth=0.9)\n",
    "plt.grid()\n",
    "plt.legend(['Control','Dementia'])\n",
    "plt.xlabel('Number of words')\n",
    "plt.ylabel('Frequency')\n",
    "plt.title('Histogram of Words')"
   ]
  },
  {
   "cell_type": "markdown",
   "id": "994770fe",
   "metadata": {},
   "source": [
    "# Check vocabulary"
   ]
  },
  {
   "cell_type": "code",
   "execution_count": 6,
   "id": "d5cc0b4a",
   "metadata": {},
   "outputs": [],
   "source": [
    "vocab_hc = []\n",
    "for f in hc:\n",
    "    words = f.words(participants='PAR')\n",
    "    for w in words:\n",
    "        if w not in vocab_hc:\n",
    "            vocab_hc.append(w)\n",
    "            \n",
    "vocab_ad = []\n",
    "for f in ad:\n",
    "    words = f.words(participants='PAR')\n",
    "    for w in words:\n",
    "        if w not in vocab_ad:\n",
    "            vocab_ad.append(w)"
   ]
  },
  {
   "cell_type": "code",
   "execution_count": 7,
   "id": "6a8e31d6",
   "metadata": {},
   "outputs": [
    {
     "name": "stdout",
     "output_type": "stream",
     "text": [
      "Vocab size (Control): 1166\n",
      "Vocab size (Dementia): 1347\n"
     ]
    }
   ],
   "source": [
    "print(f'Vocab size (Control): {len(vocab_hc)}')\n",
    "print(f'Vocab size (Dementia): {len(vocab_ad)}')"
   ]
  },
  {
   "cell_type": "code",
   "execution_count": 8,
   "id": "1fd9b02f",
   "metadata": {},
   "outputs": [
    {
     "name": "stdout",
     "output_type": "stream",
     "text": [
      "Frequent words in Control\n",
      "[('.', 2847), ('the', 2787), ('and', 1111), ('is', 1061), ('a', 745), ('to', 480), ('cookie', 437), ('on', 417), ('I', 371), ('in', 365), ('sink', 289), ('her', 289), ('stool', 284), ('dishes', 280), (\"she's\", 266), ('over', 253), ('water', 248), ('jar', 237), ('it', 221), ('boy', 215), ('little', 214), (\"that's\", 210), ('mother', 208), ('of', 208), ('see', 208), ('girl', 200), (\"he's\", 195), ('drying', 185), ('that', 185), ('window', 179)]\n",
      "Frequent words in Dementia\n",
      "[('.', 3313), ('the', 2765), ('and', 1469), ('is', 798), ('a', 726), ('I', 531), ('to', 481), ('on', 469), ('cookie', 417), (\"she's\", 374), ('in', 347), ('dishes', 346), ('over', 331), ('it', 331), ('jar', 316), ('stool', 307), ('that', 301), (\"he's\", 291), ('?', 291), ('water', 273), ('little', 271), ('sink', 253), ('her', 246), ('boy', 229), ('of', 212), ('see', 211), ('she', 208), ('up', 206), ('cookies', 205), (\"that's\", 199)]\n"
     ]
    }
   ],
   "source": [
    "num_display = 30\n",
    "\n",
    "wfreq_hc = hc.word_frequencies(participants='PAR')\n",
    "print('Frequent words in Control')\n",
    "print(wfreq_hc.most_common(num_display))\n",
    "\n",
    "wfreq_ad = ad.word_frequencies(participants='PAR')\n",
    "print('Frequent words in Dementia')\n",
    "print(wfreq_ad.most_common(num_display))"
   ]
  },
  {
   "cell_type": "markdown",
   "id": "3a97cd35",
   "metadata": {},
   "source": [
    "## Save data for HRA "
   ]
  },
  {
   "cell_type": "code",
   "execution_count": 3,
   "id": "704370d2",
   "metadata": {},
   "outputs": [],
   "source": [
    "hc_new = []\n",
    "for f in hc:\n",
    "    t = f.words(by_utterances=True, participants='PAR') # one transcript by utterances\n",
    "    tnew = []\n",
    "    for u in t:\n",
    "        tnew.append(' '.join(u))\n",
    "    hc_new.append(' '.join(tnew))\n",
    "    \n",
    "ad_new = []\n",
    "for f in ad:\n",
    "    t = f.words(by_utterances=True, participants='PAR')\n",
    "    tnew = []\n",
    "    for u in t:\n",
    "        tnew.append(' '.join(u))\n",
    "    ad_new.append(' '.join(tnew))"
   ]
  },
  {
   "cell_type": "markdown",
   "id": "866d193f",
   "metadata": {},
   "source": [
    "### Encode characters with numbers"
   ]
  },
  {
   "cell_type": "code",
   "execution_count": 5,
   "id": "654bab49",
   "metadata": {},
   "outputs": [
    {
     "name": "stdout",
     "output_type": "stream",
     "text": [
      "['t', 'h', 'e', ' ', 's', 'c', 'n', 'i', 'k', '.', 'm', 'o', 'r', 'w', 'p', 'g', 'd', 'a', 'u', 'f', 'l', 'b', 'y', 'j', \"'\", 'v', 'z', 'x', '?', 'I', ',', '_', '‡', '\"', '/', 'q', 'J', '!', 'B', 'D', 'E', 'T', 'K', 'S', 'C', 'V', 'L', 'A', '„', 'H']\n"
     ]
    }
   ],
   "source": [
    "# list of characters in the corpus\n",
    "cha_hc = []\n",
    "for t in hc_new:\n",
    "    for c in t:\n",
    "        if c not in cha_hc:\n",
    "            cha_hc.append(c)\n",
    "            \n",
    "cha_ad = []\n",
    "for t in ad_new:\n",
    "    for c in t:\n",
    "        if c not in cha_ad:\n",
    "            cha_ad.append(c)\n",
    "\n",
    "cha = []\n",
    "for c in cha_hc+cha_ad:\n",
    "    if c not in cha:\n",
    "        cha.append(c)\n",
    "print(cha)"
   ]
  },
  {
   "cell_type": "markdown",
   "id": "1279032f",
   "metadata": {},
   "source": [
    "### Reduce the number of characters to 32"
   ]
  },
  {
   "cell_type": "code",
   "execution_count": 6,
   "id": "00328f9e",
   "metadata": {},
   "outputs": [
    {
     "name": "stdout",
     "output_type": "stream",
     "text": [
      "{' ': 0, '!': 1, '\"': 2, \"'\": 3, ',': 4, '.': 5, '/': 6, '?': 7, 'A': 8, 'B': 9, 'C': 10, 'D': 11, 'E': 12, 'H': 13, 'I': 14, 'J': 15, 'K': 16, 'L': 17, 'S': 18, 'T': 19, 'V': 20, '_': 21, 'a': 22, 'b': 23, 'c': 24, 'd': 25, 'e': 26, 'f': 27, 'g': 28, 'h': 29, 'i': 30, 'j': 31, 'k': 32, 'l': 33, 'm': 34, 'n': 35, 'o': 36, 'p': 37, 'q': 38, 'r': 39, 's': 40, 't': 41, 'u': 42, 'v': 43, 'w': 44, 'x': 45, 'y': 46, 'z': 47, '„': 48, '‡': 49}\n"
     ]
    }
   ],
   "source": [
    "cha = sorted(cha)\n",
    "hra_id = {}\n",
    "for i,c in enumerate(cha):\n",
    "    hra_id[c] = i\n",
    "print(hra_id)"
   ]
  },
  {
   "cell_type": "code",
   "execution_count": 69,
   "id": "fb89969c",
   "metadata": {},
   "outputs": [
    {
     "name": "stdout",
     "output_type": "stream",
     "text": [
      "[119, 0, 5]\n"
     ]
    }
   ],
   "source": [
    "cha_idx = [21, 48, 49]\n",
    "num_occ = []\n",
    "for i in cha_idx:\n",
    "    n = 0\n",
    "    for t in hc_new:\n",
    "        if cha[i] in t:    \n",
    "            n += 1\n",
    "    num_occ.append(n)\n",
    "print(num_occ)"
   ]
  },
  {
   "cell_type": "code",
   "execution_count": 70,
   "id": "cc7b327a",
   "metadata": {},
   "outputs": [
    {
     "name": "stdout",
     "output_type": "stream",
     "text": [
      "well the girl is telling the boy to get the cookies down but don't tell your mother . and the boy is also falling over off the stool . and the mother is letting the water run out_of the sink . and she's drying dishes . I don't quite get that but then ... she has water on the floor and basically it's kind_of a distressing scene . everything's going haywire . she needs to turn off the water . if she turned off the water she'd be a hundred percent better off .\n",
      "\n",
      "oh boy . wowie the boy's going up on a stool to get cookies and he's falling off the stool and his sister is just wondering about it . will he hit the bottom ? mama has a sink that's overrunning with water splashing down onto her shoes . she's in the process of drying dishes . she's looking out an open window at the same time . the cookie jar is open . and the girl has her finger to her lips . well let me see . everything that's going to happen , huh ? looking out the window I don't know if it's the breeze blowing the curtains because over the window they look a little wee bit puffy . so maybe there's a slight breeze coming in the kitchen window . mama's drying the dishes and she forgetting herself and the water is overflowing from the sink down onto the floor splashing into her shoes . alright there are two cups and a plate on the counter to the right of the sink . and well I did tell you the boy is getting ready to fall off of the stool . his sister is reaching up for a cookie , getting it from the cookie jar . so what else ? the door is open of_course to get into the cupboard . doing . . three legged stool . I would venture to say that is it .\n",
      "\n",
      "oh boy . alright . family is in the kitchen . the mother's washing dishes . and her sink is overflowing . and she's looking out the window . and they're stealing cookies out_of the cupboard . and the boy looks like he's gonna fall down and hurt himself or fall against his mother . and the girl is whispering don't make too much noise to him . or else she's laughing at him . they got the cookies . alright now though the window , let's see . there's a nice look outside , real nice . I told you the water was running over and splashing onto the floor . and the mother doesn't seem too too affected by it . she's drying a dish or wiping it . let's see . I guess the girl is laughing at her brother because he's going to fall . looks like a nice house . there is very little but I don't think that's meant for this . the corner that got to the corner . so this is a corner here . and that goes back into there but that's . do you see what I'm making reference to ? the carpentry ?\n",
      "\n",
      "what's happening there ? oh my . poor kids . he's gonna fall off that cookie jar . we'll start with the girl . she's going to receive a cookie . her brother is taking cookies out_of a jar . and he got careless . and she's asking him for one . so he's handing one down to her . in the meantime he is getting ready to fall off of a stool , a three legged stool . and the mother's not paying much attention . she's looking out the window . and in looking out the window why she's letting her sink run over and the water's splashing on the floor all over her . and what else ? the outside looks alright . they're doing more things on the outside . there's some more there . and then she's drying a dish . and she has two cups and a plate on the table . they've already eaten . well I did say she was letting the water run over the sink down onto the floor splashing onto her feet . oh boy . then there's an angle here that is incomplete of the corner where the wall comes together . let's see what else should there be . oh let's see . there's a plate two cups . oh I did say she's letting the water run over the sink didn't I ? yes . and she seems to be looking out the window while she's drying her dish . how_about that ? does that have enough ?\n",
      "\n",
      "the girl's laughing at her brother because he went into the cookie jar and he's falling over the cookie jar . and the mother was at the sink . and the water's splashing over the sink . and she sort_of a little bit bitchy . and the water's going flooding over the sink . and there's a saucer , there's a plate , there's a couple of dishes . well and the mother's looking out the window . she don't know what the hell to think of it . a girl laughing at her brother who is taking cookies out_of the cookie jar and he's ready to fall off the stool he's on . the stool's crooked . what the hell else ? and then there's a plate , saucer and two cups . she's looking out the window . the window's open . she's not paying any attention to the kids . the water's flooding over the sink . what else you want ?\n",
      "\n",
      "well the kids are in the corner . they are going to get some cookies from the cookie jar . and the mother does not see it because she's inside drying the dishes . and the kids then just ... and I guess in the picture here that the mother that's working hard and the kids were playing . and all of a sudden somebody turned over a dish . and all over the floor . except that it did not dry it up . it splashed from the sink but not from ... no that's no . I'm trying to get too much out_of it . and one of the kids is gonna get a crack on the head . and maybe he has ... man ! it's so ... sometimes I see it very clear and other times I see /. a weak image , so to speak . and sometimes I just have this p . what is in here now ? but mostly is I have not so much trouble in looking at a thing at it an image but not getting anything that you'll want . but an etch you would say it in a little . !\n",
      "\n",
      "I see a little boy climbed up on a stool that is reaching for a cookie out_of the cookie jar . the stool is about to fall . his sister is telling him to be very quiet . and also at the same time she is reaching for the cookie that he has in his hand . the mother is apparently washing or drying the dishes . and she has neglected to shut the water off and the sink is overflowing . I think that's all I see going on .\n",
      "\n",
      "alright . I see the little boy stealing cookies from the cookie jar . and he gave some to the little girl and she's eating some of the cookies . and I guess this is mama and she's washing the dishes . and she dropped a dish . no she didn't drop a dish . the water that she's washing the dishes with she let run . and it's overflown . that doesn't sound right . did it /? we forgot to turn off the spigot . and so the water is running off onto the floor here . and mom apparently is washing the dishes . and here's this little boy stealing the cookies . he's gonna fall because the four legged stool is gonna fall over with him and the cookie jar . and mama's drying the dishes as usual for mamas if they don't have a husband that dries them or washes them or whatever . let's see now . I guess there's more things I'm sposta see . let's see here now . oh and the water is flowing out of the sink they forgot to turn off whoever's doing the dishwashing . mom apparently here , she forgot to turn off the water and the water is spilling out onto the kitchen floor . and the little girl has pushed over the stool with the boy that was reaching up to get the cookies . either she pushed it over or he fell over with it . you_know it excuse me but you_know I was ...\n",
      "\n",
      "okay . apparently a mother and a daughter and a son are in the kitchen . and the son is standing on the stool which is tilting . and he has his hand in the cookie jar and handing one cookie to his sister . at the same time the mother is doing dishes and apparently looking out the window because she has allowed the sink to run over and it's cascading onto the floor and her feet . she has dried a few dishes two cups and a plate and is attempting to dry another plate now . and she's looking out into the yard which I could see the driveway and maybe the end of the house or the garage with a_lot_of shrubbery around it .\n",
      "\n",
      "falling //. in a sentence or /? okay . falling off the stool . taking cookies out_of the jar . reaching up for a cookie . holding her lips to designate that they better not make noise . the stool is upsetting . the water is cascading out of the sink . her feet are getting wet . the curtains look as if they're blowing . the tea cloth is drying the dishes . of_course the woman is drying the dishes . that's about all the action I see .\n",
      "\n",
      "okay . there are three persons in the kitchen . the little girl is instructing the little boy to take cookies out_of the cookie jar on the second shelf of the cupboard . and at the same time his stool that he's standing on is about to collapse . the mother apparently is doing dishes and looking out the window . has the faucet on in the sink . and apparently the plug is in and the water is cascading over the kitchen floor . and it must be a warm sunny day because the window is open . and I can see the shrubbery and what appears to be the end of the house maybe a garage door . and on the counter there are dishes that the mother has either washed or has dried and is still washing a plate .\n",
      "\n",
      "oh . oh great . oh the boy is taking cookies . and he's also going to fall off his stepstool . I gather it's his sister is reaching for the cookies . the mother is drying the dishes and obviously has her mind on something else because the water's coming down out_of the sink onto the floor . and she is also standing in water . I don't know . that's it . I didn't hear what he said then because it's ... that is all that I can see here .\n",
      "\n",
      "so she will find her . and the mother drying the dishes . and the stool's upset . you_know she's getting the cookies . there's cup and saucer setting there on a plate ready to eat . the cookie jar right here . that's all I see /. and this is ... well whoever's over there spilled it , knocked it down . I don't know what that is . looks like a mouse . mhm .\n",
      "\n",
      "alright . gonna start here . the boy has opened where the cookies are . and in the meantime the thing is falling down . the girl was being shh quiet . the water is running over in the kitchen . mother is wiping the dish and dishes . she doesn't seem to even know what's going on . it's I would say summer . that looks like things are growing up . there she's looking out the window . she's standing in the water . cookies . they've taken cookies out_of the cookie jar . she's keeping quiet . the things break , falling over . it's summer . I_mean it looks like it's summer . things are coming up . mother doesn't seem to care what's going on with the kids . there are two cups but only one dish . did I say the water's still running . that was all . I guess that's it .\n",
      "\n",
      "okay I'll start . the mother is drying dishes . and the sink is over flowing . the water is falling onto the floor . the boy is on his stool taking cookies out_of a cookie jar . and he has two cookies one in each hand . the girl is standing , reaching up for a cookie with her finger over her mouth telling him to be quiet . the stool is on one leg . there's drapes on the window . there's a path between the grass and the bushes . and this little picture is a part of the house and part of the tree in the upper window . there are doors on the cabinets in the sink . and it's daylight . there's two cups and a dish on the sink . should I describe the two faucets ?\n",
      "\n",
      "first of all I see I guess she's mother at the sink washing dishes and the water is overflowing from the sink on to the floor and she's standing in a puddle of water . and at the same time there's a daughter I guess a little girl has her hand up and also one finger to tell I guess her brother to do it quietly . and she's reaching up for a cookie he's taking out_of a cookie jar . and as he's doing that the stool is falling over . that's it .\n",
      "\n",
      "is it alright to say mother and son and daughter ? mother is wiping dishes but she's overflowing the sink bowl . water is running on the floor . outside I can't tell if it's a cloudy day or a great day but you can see some shrubbery and bushes . and the tilting stool is about to fall . taking cookies for he and his sister out_of the cookie jar . so somebody's gonna have some cleanup work to do . and the daughter of course reaching her left arm and hand and elbow up to receive a cookie . but he's gonna go crashing on down the floor where the water is going , the suds water . I do the dishes sometimes at home . but with the dishwasher it's just pots and pans . fry pans , do our eggs in the morning . I use rubber gloves because skin cracks around my nails . and I put bandaids and petroleum jelly Vaseline on them . mhm . the drapes are alright . I don't see anything else .\n",
      "\n",
      "the little girl is waiting for the boy to get her a cookie . and she's pointing shush don't make a noise because the mother might see them . and the little boy has a cookie in his hand . and he gonna get another one out_of the cookie jar but his stool has gone over . it's starting to go over . and the mother is washing dishes . and and water is //. I_mean drying dishes . and she's listening with the little girls and so the water's running down onto the floor . let me see about there anything happening outside . no . the wind might be blowing beside but I don't think anybody ... if it is you could hardly tasty . okay .\n",
      "\n",
      "alright let's start over here . the little boy is standing on a stool which is about to fall over . and he is getting a cookie out_of the cookie jar . and his little sister comes //. the lid's off . and he has a cookie in his hand . and his little sister is down here . and she has her hand up to take the a cookie out_of the little boy's hand . he's giving it to her . and her mother is standing at the sink wiping a dish with a tea towel . and then there's a sink that has faucets . and the water is on . and she's is spilling over onto the floor . and on the sink also there are two cups and a plate . and above the sink is a window . and you look out and you see the garage and a drive into which has bushes on the side . and in the garage there's also a window . and then up the curtains . and you can see the top of the garage out the window . and her curtains curtains on her window . and the cupboards are underneath the sink . and it's a good job there if you ask .\n",
      "\n",
      "that's it . well the girl's drying the plate . and she's overflowing the water in the sink . there's a boy up on a stool and he's falling off of it . trying to get a cake or something . in the cupboard . see he's trying to get this and he's gonna fall off of there . so ... and the mother's water's all coming down out_of her sink there . the little girl is putting her hand up to the boy . they're gonna get something out_of that jar , a pineapple jar or something .\n",
      "\n",
      "the little boy is up on this thing here . and he's up trying to get something out_of the garden selection I think it is . the little girl I think is mad because she didn't get some of it . and here's mama drying the dishes . no just the little girl and the boy was on here . the little girl and the boy . she's reaching up to the boy and the boy got his other hand down . so ... it looks color /. no that's all . oh she spilled something I think . from the sink down . it came splashing down . that's the first I noticed it . I'm terrible anymore .\n",
      "\n",
      "oh my . you mean how much or just the ones ? oh . the sink is overflowing while she's wiping a plate and not looking . the little boy is hungry . he wants to get some cookies . and he's standing on a stool . and it's tipping over . and I don't know whether he's gonna bring the cookie jar with him or what . and the little girl is holding up her hand wanting some . and he's gonna give to her . but I don't know if she has a finger to her mouth but ... and she knows that he's gonna be tipping over it looks like to me . or maybe she's just not noticing it and making her mouth get ready for this good cookie . I don't know which way it is for the little girl . because she's smiling . I think if she saw him falling over she'd do something to help him so he wouldn't get hurt . I_mean she'd grab it or something . but she's just looking up at him you_know looking up at those good cookies and waiting for them to come to her hand . but this little finger in her mouth is ... I'm not quite sure what it means . I think it means that it's gonna be good . yeah . and I don't know whether the mother knows this is wet yet . she's thinking something else I think . I don't know what it is . what are we going to have for lunch ? or she's got something in her mind because certainly she'd see this if she didn't hear it . .\n",
      "\n",
      "oh yes . a little girl and the little boy is getting cookies out_of the jar . oh and the stool is upsetting . and I guess it's the mother is drying dishes . water's spilling down all over the sink . water on the floor . little boy's gonna fall and that there stool . I think the cookie jar is gonna fall . and guess drying dishes and the faucet's on and water's running all over the floor . what ..? yeah . the cookie jar . the stool . her doing the dishes . the water spilling . yeah that's as far as I could see .\n",
      "\n",
      "oh gee . the little girl is reaching up to the cookie jar . oh he's on the stool . he's gonna be trouble falling off . and the lady is drying the dishes . and the sink overfilled . I_mean it's all down on the floor . and I can see cups and //. I see that little boy with the cookie jar . and that little girl wants one . and as I said the water's running all over the floor . and the girl's drying the dishes . and the little boy's falling off that there stool because he's up for the cookie jar . trying to get one for his sister . and the water on the faucet is all over the floor . oh man ! this is awful .\n",
      "\n",
      "look this way ? well I really don't know because they haven't gotten things turned up right . not in this one . maybe under this right here . it's like a ... no it isn't . looks like this is a kind of thing that whoever . she's cleaning . looking to see what they have so they can get it ready for bed I guess . I don't know . his hair is down . it's fallen down a_lot .\n",
      "\n",
      "and the boy in the cookie jar . and the girl reaching up to him . the stool slanting ready to topple . and the cookie jar is open . and the lid's in there . and the door's open . and mother's drying the dishes and standing in a pool of water it looks ... water running down from the sink . and there are some dishes on the sink . the window is open and you can see outdoors . I did say she was drying dishes didn't I ? and I did mention the water running out_of the sink ? and the few dishes on the sink . and you can see the trees and the window outside . looks like the little girl's eating a cookie and reaching up for another . the boy's really in a precarious position . he's got one hand in the cookie jar and another cookie in the other hand . he looks just about ready to tumble .\n",
      "\n",
      "dishes are being dried . and the child is getting some cookies out_of the jar . the or the stool he's on looks as though it's crooked . and the water's going over from the sink . is that all ? and then the boy was getting the cookies out_of the jar and the cover is off . but he's giving her a cookie and the stool is turning over and the water in the sink is flowing over . and she's drying dishes .\n",
      "\n",
      "there's a boy getting in the cookie jar . and the girl is waiting for him . oh they're tipping over . the woman is washing dishes and the water's flowing on the floor . she's drying dishes I guess . the boy is getting cookies out_of the jar . gives one to the girl . and the woman is drying dishes . and she'll hafta wipe up the floor to the action there .\n",
      "\n",
      "the boy is after the cookie jar for him and his girl . and the girl or the woman is drying dishes and the water is leaking on the floor . spilling on the floor . the boy is getting cookies out_of the jar and the stool is falling over . he's gonna fall . and the water's spilling for the woman drying the dishes . is that all ?\n",
      "\n",
      "a little boy is getting cookies out_of the jar and his stool is getting ready to fall . and the mother is washing dishes and she would let the water run over the sink on the floor . I guess that's all .\n",
      "\n",
      ". mhm . the boy is on the stool trying to get some cookies out_of the cupboard to give to his sister I guess . and the mother is doing the dishes and the sink overflowed . and all the water's going on the floor . that's it .\n",
      "\n",
      "well first of all the cookie jar is coming down it looks like but the little boy's climbing up the stool . he's falling down . and he's gonna pass some cookies on to his sister but I don't know if he'll make it there with them . and over here the mother spilled , let the water run over which I have done lots of times . and she's gonna hafta get a towel and mop it up very quickly . that's about all on that one . that's similar . I_mean very small . I don't know what these little gadgets are but I guess they had little /. part of the little cover yeah . is that all on that one ? I don't see anything else . her feet may be getting wet in on the floor too but outside of that that was the worst .\n",
      "\n",
      "an average home that looks very much like ours at many times . well she's spilling her water which is not very good but she's washing dishes and drying them . and one of the children upset the cookie jar . and that's a very average thing to go on in a home . our home it's a very active family . and so that it makes it kind_of hard at our house sometime because there's like I said a_lot_of activity . well the poor girl is spilling the water on her feet . it's gonna be wet but then she'll hafta struggle with that . also there are a few more dishes left that didn't get finished . this hasta be the dishes . and how that little boy fell off that stool I don't know but he did . no .\n",
      "\n",
      "the boy is taking cookies out and giving them to the girl . it looks like she's putting one in her mouth . and the mother has the water running out_of the sink and it's going down on the floor . and she's drying dishes with the curtain . well no I guess she maybe she does have a ... it looks like a duck's mop . duck's head . she's a very sloppy housekeeper . I bet you're not that sloppy . well he's on two feet of the third one's up in the air . copyright nineteen seventy two by Lee_A ... and .\n",
      "\n",
      "this boy is getting cookies out_of this jar . well they must have put something in the in something over here . . no ‡ you gotta get the thing out of the ... yeah ‡ I guess so .\n",
      "\n",
      "actions going on . this one's a little boy falling off a stool . little girl's holding her hand up telling him one time . this girl's washing the dishes . I don't seem to know where she got the dish . I just picked it up . said she \". oh she's broken a dish back there . this thing fell down off of there . well I_mean the water is running . it's running over on the floor . she's got a couple plates waiting here for her . and the window shows the scene outside that you can't see from here at all . and there's a little boy and a little girl here just a little . .\n",
      "\n",
      "kid trying to get into the cookie jar . and he missed the thing . and he still isn't going out for them . and his sister whoever it is has caught him at it . and he's gonna hafta do the dishes because his mother can't let him go scotfree . and of_course the water's pouring out_of the sink onto the floor already . she didn't even take the plug out . well there's other colors here . and , it isn't the first time this boy has done this . he been doing it all his life but his mother didn't find out until he was big enough to walk .\n",
      "\n",
      "oh the water is running out_of the sink . mother is calmly drying a dish . the stool is going to fall over and the little boy is on top of it getting in the cookie jar . and the little girl is reaching for a cookie . she has her finger to her lip as if she's telling the boy not to tell . the curtains seem to be waving a bit . the water's running . and it's splashing on the floor . that's it .\n",
      "\n",
      "mother's drying the dishes and the water is running over the sink and going onto the floor . and the little boy is up getting cookies out_of the jar and the stool's about to fall over . and the little girl's holding one hand up for a cookie and the other one up to her mouth \"/. sh don't tell mother .\n",
      "\n",
      "a little boy is getting himself some cookies out of the jar . and the stool is turning over on him that he's standing on . he's handing the little girl some cookies out_of the jar . is that it ? well that's in the first one . he's handing the little girl cookies out_of the cookie jar . and he's on a stool and it's turning over . and he's handing her some cookies . and in the second picture the little girl looks as though she's drying dishes . and the sink is running over on the floor . she has the spigots on . a nice view from the window . is that it ? that's it .\n",
      "\n",
      "these two little kids are getting cookies out_of the cookie jar . and this lady over here is ... what is she doing ? she's decorating . isn't that what she's doing ? decorating ? well , they're getting cookies out of the cookie jar . up on a stool that looks like it's gonna topple over . looks like she's washing dishes . drying dishes . she's got a cloth in her hand and a dish in her hand . and the //. oh , maybe she's gonna wipe up some water because it's sure running out here /. of the sink .\n",
      "\n",
      "there's a_lot_of things going on in the picture . the boy's falling off . and he's getting cookies up out of the jar handing them to the kid . the lady's washing dishes . the spigot's opened . water's overflowing the sink . the window's open . she's walking in the water . cups on the counter and dish on the counter .\n",
      "\n",
      "well the mother is drying the plate . and the water is running on the floor overrunning in the sink . the kids are taking cookies from the cookie jar . and on a high stool you_know to reach up to the cupboards . and the girl is receiving the cookies . the sister I suppose . the little girl . the little boy is taking the cookies and he's handing them to her . and I'd be there eating them too because I like cookies . my hand is always in the cookie jar . and the mother is drying the dishes . at the sink . the water's running over . and she's not paying any never minds to it I guess . the floor's getting wet . she'll hafta get a mop and mop it up ! oh this is crazy . well the kid's going to fall from the high stool . that's dumping over and he's going to land on his rear end pretty soon . those might be a couple cookies in his hand . probably the cookie jar spilled too . he might catch that when it went to the floor . yeah . that's about all . the sink is running over . the water's dripping on the floor , all over the floor . the old lady will hafta get a mop and mop up the floor too after she's through with washing the dishes .\n",
      "\n",
      "yeah , alright . the girl is reaching up for a cookie . the youngster's getting the cookie out_of the cupboard . the cookie is in the jar jar . the stool that he's standing on is falling . the door to the cookie cupboard is open . the lady is washing dishes . she has a dish cloth in her hand . the sink is running over . the spigot is not shut off . there's two handles and neither one is shut off . and it's falling on the floor . there's two cups and a dish on the countertops . there's curtains . there's two windows . at least there's a window with two panes showing , partial the others . and it looks like a scenery outside like a walk and some bushes and things . and some bushes in front of some kind of a building . she has on an apron , shoes . and the young girl has shoes and stockings on and the boy has stockings on and shoes . and the cabinet has two three four five doors to it .\n",
      "\n",
      "okay . it's kind_of shiny there . I ... mhm . okay it looks like somebody's raiding the cookie jar . there's a woman working in the kitchen . and there's this little girl here with something but I don't know what it is she ... yeah I'm trying to identify this thing . x trying to see . is that a table leg ? okay . I'd say that's a table leg .\n",
      "\n",
      "this is a clause copy c by his ... yeah uhhuh . a x . the sun . mhm . his x . ample rice discharged . charged . flexible . flexible . . my husband and ... is there somebody else there ? her . Last_name yeah . yeah . a lovely girl . a do guess getting older I see I so . oh no . this oh I can just ... .\n",
      "\n",
      "you just want me to start talking ? well the little girl is asking her brother we'll say for a cookie . now he's getting the cookie one for him and one for her . he unbalances the little stool and he's about to fall . and the lid's off the cookie jar . and the mother is drying the dishes abstractly so she's left the water running in the sink and it is spilling onto the floor . and there's look like two cups and a plate on the sink and board . and that boy's wearing shorts and the little girl is in a short skirt . and the mother has an apron on . and she's standing at the window . the window's opened . it must be summer or spring . and the curtains are pulled back . and they have a nice walk around their house . and there's this nice shrubbery it appears and grass . and there's a big picture window in the background that has the drapes pulled off . not pulled off but pulled aside . and there's a tree in the background . and the kitchen has a_lot_of cupboard space under the sink board and under the cabinet from which the you_know cookies are being removed . and is that enough ?\n",
      "\n",
      "well this lady is washing a_lot of stuff . but the water is going down here . instead of its going down in there it's coming out . and the boy is getting the cookies . and the girl is wanting the cookies . and the way he's putting it on there he's gonna fall . yeah because that's crooked . I see that all the water coming down through from outside . instead of it going down through there it's coming out all over here . yeah because water's all coming down through here .\n",
      "\n",
      "well the children are enjoying it and the mother is drying the dishes . and the little boy is about to fall he's not careful . no that's all . oh ‡ dishwashing . and the little boy is trying to get something out_of a jar . imagine it's a cookie ... and the stool it hasn't turned yet but the way he has it on two legs it won't be much longer . that's all . he's reaching for the cookie jar or . dishwashing . evidently they hafta dry them now their dishes there wash them . no ‡ I don't think so .\n",
      "\n",
      "the stool is tilting . lid is off of the cookie jar . cookie in the left arm of the boy . his right hand is touching a cookie in the cookie jar . one of his feet is about a third off of the stool . he's got short pants and a blouse . and look like they're boots instead of shoes . the girl has a finger to her lips as though to say quiet one hand out . her left hand is out . she's got short skirt and a blouse , jersey sweater . socks , anklets rather . I did mention that the stool was tilting . the boy's standing on the stool and it's tilting . I think I mentioned that . the girl has hair hanging to her neck . the boy has like hair combed straight back . the jar is open on the cupboard . the mother's drying the dish with her right hand holding it with her left . she's got an apron over her dress or whatever it may be . water spilling out_of the sink . two cups facing opposite direction . one plate to the right of the cups . curtains flowing in the breeze of the wind . there still some more but ... oh yeah .\n",
      "\n",
      "right . the young lad taking cookies out_of the cookie jar and handing one down to his sister I presume . and the stool is gonna fall out from under him . and the mother is washing dishes but she's distracted and the water's all running out over the sink . she's wiping the sink and wiping the dishes . that's about it .\n",
      "\n",
      "oh yeah . kid's climbing up on the stool and reaching up in the cupboard . they aren't gonna knock things off . and oh boy the water's all spilling out of the sink . she's just looking at it like \"/. oh for goodness sakes . huh . well as I say that you_know the boy on that stool and it's tilting . that's a good way to break his neck . break his back I shoulda said . woman left her faucet running and it rolled over the floor . that's bad enough for me to do . let me scan it a little bit more . oh it's there more in time ? oh . yeah .\n",
      "\n",
      "the poor mom's getting her feet wet because she thinking of days gone by and then the water run . and that boy whether he knows or not he's gonna crack his head on the back of that counter trying to get too many cookies out . I don't know the significance of that little girl putting her hand to her mouth reaching . unless that's the way all silly girls act at that age . pardon ? oh sure . there's no handles on the cabinet drawers under the counter on the left side . and over in the window you see through the kitchen window all the styles are not in the glass . and if the kitchen window's the same type of window as well the other part of the house the style's only in the upper and the laterals . maybe they build them that way . no , but I did notice that's a_little I wouldn't say unusual but . pardon ? I said that the sink was overflowing . the mother's getting her feet wet . the boy's going to fall very hard and hurt himself . and nobody's gonna help him . well happening ... did I say the cabinet doors where the kids are have no handles on them ? oh ‡ there's got to be a dozen other things . responsible ? well I'll tell you the way mom is looking there's not much going on in her head . she's thinking of dad . and the little girl is saying \"/. sh don't tell mom . the conflict's in what she's thinking whereas she didn't know the kids are behind her . and did I say ..? . the cabinet doors are different sizes . have no handles . I guess you take a big sledge hammer to that .\n",
      "\n",
      "well I'm seeing a_lot_of water that isn't sposta be where it is . a full sink with more water running down all the way to the floor . a stool that's going to project somebody into a fall and real fast . getting out_of the cookie jar . dishwashing and drying . and a girl trying to say silent so that they won't be caught . two cups and a plate that probably are dry and then the other plate is being dried . a cupboard door that's open . that stool though , I don't know what he's going to do with that . I don't know why the water's left on . it's gonna make a mess . she's drying the plate or the dishes or whatever it is that she's working on . and of_course that cupboard door is open . if it hadn't been opened why maybe he wouldn't have gotten his cookies . well otherwise it's except for the two accidents it's not too bad . but the boy hasn't gotten down to his fall yet . that's the way with boys you_know .\n",
      "\n",
      "kid's stool turning over . trying to steal cookies out_of the cookie jar . little girl is reaching up to grab hers . huh . mother's doing the dishes but let the water run over all over the floor . and she's standing in a puddle . action . drying the dishes . or did I say that before before ? yeah . kid's laughing . the other kid with the stool falling over break his neck . there no action to the curtains . and grass is growing out there . I guess you can call that action . leaves are probably blowing . the mother's in her own little world . the water's still running . cookie jar . he's handing them out like he made them . the stool's falling over or the stool . I think . and I think the little kid kicked it . and it pushed him over . instead of holding him up she gave him a shove .\n",
      "\n",
      "well I see the mother washing dishes . I see the water flowing out over the sink top . I see the boy on a stool that's about to tilt . and he's going to fall . he's trying to get into the cookie jar . the little girl has her hand out for a cookie . the water's running . dishes are on the sink top . the lid is off the cookie jar . you want me to tell you the grass is growing open through the window ? I can tell you the water is spilling out_of the sink onto the floor . and they got the window to see the outside world .\n",
      "\n",
      "I see the little boy reaching up for the cookie jar but he's also on the stool which is tumbling over and he's going to be hurt . the little girl has her hand up for a cookie from the cookie jar too . we'll call her the mother is doing dishes . and the water is splashing out_of the sink . she can look out the window and see the lawn , the birds in the trees . she's doing the dishes and as I said before the water is coming out onto the floor . she doesn't seem to be aware of it . and the little boy is going to get a bad fall on that stool . the water's on full force and it's coming out onto the floor .\n",
      "\n",
      "well a youngster got up on his stool and he's trying to get into the cookie jar . and the little girl is already waiting for the cookies so she's standing there with her hand out . oh my . and mother is very busy . oy ‡ she forgot to look at the spigots . they're still open . and the water is pouring from the sink . and she's looking at it like it's \"/. what am I gonna do now ? and there's some dishes on the countertop . and you can see out into the yard . the curtains are nice . this little boy is on tilt though . that little stool is going to fall . she has her dish in her hand that she's drying . and she looks a_little perplexed \"/. what am I gonna do with all this water on the floor ? and there you can see there's another house next door evidently . looks like a house in the tree back there beyond the house .\n",
      "\n",
      "wahoo ho ho . well it's kind_of a calamity isn't it ? the mother just is ... I assume this is the mother . and trying to wash the dishes and the water's overflowing . and the little boy's trying to get cookies out_of the cookie jar on top of the cupboard . and his stool is getting away under him . and she keeps holding her hand up waiting for another cookie .\n",
      "\n",
      "whew . do I hafta use my personal description ? or like ... stealing the cookie out of the cookie jar . the stool the three legged stool he's rocking with its ... I wonder if she's putting her finger to her lips . and is that she wants one to eat or she's reaching up for it ? huh ? and then spilling the water in the kitchen sink . she's drying the dishes . they got their sink is overflowing . so that's why it's overflowing because this water's running out of the spigot . she's drying the dishes . and let's see what else ... am I missing something ? you_know I'm pretty tired . I guess . huh ?\n",
      "\n",
      "let's go . just tell you what the ... uhhuh . you ready ? I don't know what you mean by everything going on . the kid's snitching the cookies . the little girl I think is telling the little boy to be quiet because she's got her finger up to her mouth . mommy's kind_of sloppy with the dishwater . it's running out_of the sink . two cups , a saucer , plate . the mommy's standing in the water . is one of the things you want ? anything you find , oh okay . the kid's just about ready to let go there and fall on his back or his head off the stool . the little girl looks okay reaching up for the cookie . is that what you wanna know like reaching up for the cookie or something ? oh , okay . reaching up for the cookie . that the kid brother is donating to her cause . I did say the sink's overflowing didn't I ? I don't see much more than that other than the kid's falling off of a stool . he's getting into the cookie jar which he hadn't oughta do . well maybe he could . that's alright . I've done it myself . it's this one here ? just like me , yeah .\n",
      "\n",
      "well the boy is reaching for some cookies . and they're in a jar in a cupboard . and the stool is breaking down . and the girl is waiting to be handed one of the cookies . he's in the cupboard trying to get a cookies out_of the jar and his stool is toppling over . and I don't think she realizes he's falling over , she's reaching for a cookie . and here the water in the sink is making a puddle on the floor . and the woman is going to step in it or is stepping in it . and what's wrong did you say hm ? and she's trying to dry dishes and she's got the curtain mixed up with the dish that she's drying I think . and I don't have my glasses on ... oh ‡ the water's running out_of the sink . and there's something happening in the yard . I can't see it but /.\n",
      "\n",
      "read it to you ? well , the action . well the little boy has his hand in the cookie jar . and the little girl is begging for some of the cookies . and he's teetering on the stool where he climbed up . and mama is washing dishes , wiping them . and she is not watching what she is doing . and the water is overflowed on the floor . because she's watching out the window at the ... am I going too fast ? looking at the beautiful lawn . where there's a garage and some bushes and of_course grass and trees . and she's so immersed in that she has allowed the water to overflow on the floor . and she still has a couple of cups and a plate to wash . oh dear .\n",
      "\n",
      "well a lady's //. uhoh . and the water fell off the sink . the little boy fell off his ... what's that called ? that's a ... he fell off of that thing . yeah . yeah that's kind_of messed up . got his cookie jar but he fell down . no not much . how_come she hadta get that water splattered all over the floor ? that's terrible . well this little girl was just looking at her brother .\n",
      "\n",
      "well the kid's up taking cookies out_of the cookie jar . the other one's there holding her hand . the jar is gonna fall . she's washing dishes and forgot to turn the sink off . water's pouring all over the floor . dishes are on the sink . and it looks like a face laying in the yard the way the grass is . that's what we got . kid taking cookies out_of the cookie jar . the kid has her hand up after it . mama's washing dishes . sink's running over . and that's it . good . window's open .\n",
      "\n",
      "well this one's trying to touch her nose with her finger . isn't that what she's doing ? well he's giving her a cookie out_of the ... the stool's falling out under him . she's drying dishes . and the water's running out on the floor from the spigot . he's got a cookie out_of the jar I guess . she's drying dishes and the water's running out on the floor . the spigot's on . he's gonna fall . I guess that's it .\n",
      "\n",
      "girl washing dishes . I see that . the boy's putting up the cookie jar or getting cookies out_of the cookie jar . and his little sister is begging him \"/. oh hurry up . come on . and he's got the foot stool . and her big sister is washing the dishes . that's the big sister or the mama is drying the dishes , putting them away . she's got the spigot on and the water's running . and there's her cup . she hasn't them put up yet . and he's up on the foot stool . and he's got the cookie jars . he's getting the cookie jars . she's begging him for some . begging him for some cookies . she's drying the dishes . and she's got the water on in the sink . and there's her cup sitting down there /. to be washed . no she has an apron on and her shoes . and the drapes are pulled back in one of the rooms . see ?\n",
      "\n",
      "oh this ? there's a little boy . he's getting some cookies out_of the jar . and he's giving his little sister something . I don't know what it is . and one of the girls is washing the dishes and drying them . and the cookie jar is out there . so that's pretty nice . the little boy is up on the ... what do you call that stool ? that's too big for a foot stool . see the /. uhhuh . he's up there getting a cookie jar . see ? he's getting the cookie jar down . he's giving it to his sister . what is she doing ? she's washing dishes right there . I see the water spilling over . see the sink ? uhhuh that's going down . and there's a saucer and a cup . is that a commode in there ? it looks like it right there . maybe that's ... I don't know .\n",
      "\n",
      "ready ? children are stealing cookies out_of the cookie jar . and they stepped on a step stool and it's falling over . sister sister is asking brother for some of the cookies that he's getting from the cookie jar . mother's doing dishes . the sink is clogged up . the water is draining on the floor . she's a_little angry , looks a_little angry . I don't see no husband or nobody . cookie jar , cabinets . mother can't be dressed any different . kids . that's what I can see .\n",
      "\n",
      "now wait a minute . everything that's going on in the picture just by looking at it ? well , she's wiping dishes . and the boy is getting cookies out_of a jar . and he's on a stool . and there's cups over here . and the water's going on the floor . and the housewife , the mother , is wiping the dishes . and she's standing by the window . and she's letting the water run out_of the faucet onto the floor . and the ladder is falling over when he's getting the cookies out . what else you want ?\n",
      "\n",
      "alright a little boy has a cookie jar . okay he's got on the ladder and trying to get a jar . and this is the mother I guess . right ? she is so ... she really isn't any good sense of a mother because the water's running out_of the sink to the floor . so if I was a mother I would spank her . right ?\n",
      "\n",
      "oh ! little boy's getting into the cookies . he's climbing up a stool and it's about to fall away . dangerous . and the little girl she's wanting a cookie off her brother . and the mom's washing the dishes . and she's letting a_lot_of water run over the spigot . it's running over on the floor . and you just want me find out what's wrong ? well she don't seem to be noticing what she's doing . looks like she's watching tv . and she's not even watching what she's doing or she'd have seen the water running over .\n",
      "\n",
      ". well a little boy is stealing cookies out_of the cookie jar and giving some to his sister . and his stool is starting to fall so he's gonna fall . and the lady's drying the dishes . and her sink's running over . suspect it's running and she didn't turn it off and it's running over on the floor . she's drying dishes and watching out the window at the same time .\n",
      "\n",
      "oh . huh ? which moves ? oh . the boy is taking cookies out_of a cookie jar . his mama's washing the dishes . and the water is coming over the sink into the floor . and she's wiping the dishes . and as I'd said the boy is falling . and the girl's got her hand up to get the cookie . and what else do you wanna know ? did I get it right ?\n",
      "\n",
      "cookie jar . the boy and a girl and the ladder . the cabinet . and the other cabinet with the sink in it yes . the water coming out . the sink . the dishes on the cabinet . the lady drying dishes . the window . and you can see the trees outside the window . the curtains on the window . the water . spilling over in the sink . I guess I mentioned the boy getting the cookies out_of the jar . oh yeah the ladder's tipping over . the boy's on the ladder and the ladder's tipping over . and the girl's reaching to get a cookie . and the water's flowing down on the floor . you can see the grass out on the lawn .\n",
      "\n",
      "the woman of the house is drying the dishes . her sink is overflowing . the boy's stool is tipping . he's taking cookies out_of a jar . he's handing one to his sister . and oh she's already dried some dishes right here I guess . well what is this honey ? I can't make that out . it look like a ... oh action . oh ‡ I'm sorry . she's drying the dishes . she's standing in water if that's action . and the door is open where the cookies are . they all have their shoes on . oh she's got an apron on over her dress . kind_of homely girl isn't she ? she's not doing much she's just got her hand like . how many did I get wrong ? okay .\n",
      "\n",
      "oh yes quite a_lot . the kid's trying to get the cookie jar down and he's gonna fall down off the ladder or the stool whatever it is . and she's trying to get it out_of his hand . and she's got little socks on . and the mother is drying the dishes and the water's slopping all over the floor . and there is a garden outside it looks like . and there's drapes whatever you call them that's over the window . and there's dishes over here . and this looks like cabinets where the water is flowing over . and somebody's gonna fall down off that stool or whatever it is . and the little girl has little shoes and socks on .\n",
      "\n",
      "well the mother's washing the drying the dishes . and the the two little kids are in a cupboard . they're trying to get the cookies . yeah the water's spreading all over the floor . is that supposed //? and what else ? what else ? let's see . the woman's looking out the window too . you_know she's got this thing and then trying to wash and dishes with them . let's see . water spilled over the thing . okay ?\n",
      "\n",
      "and you're gonna draw the picture ? oh yeah . the little girl looking up at the little boy . she wants a cookie jar . and he's gonna fall and get hurt . and mother's probably looking at these show here the water coming out_of the spigot . she got her hands full . and so I don't know . they're gonna have a mess . and she's wiping the plate off with her ... and the water breaking through on the ... and that's coming out on the floor . let's see . that ... and outside , I don't know . ain't much outside . that's about it .\n",
      "\n",
      "there's a little girl talking to this boy up on the stool . and she's asking him to bring some of this down or whatever it was a jar or whatever it is so it doesn't break . there's a mother over here . she's watching them that she has that break in her hand . and it looks like it's very strong or x or ... she's looking real good at it , a jar or whatever . she's giving a little touch of her mouth . although that's . and it looks like he's gonna bring some of that down for them all . and mother's out there looking at them . and looks like she's washing this dishes that they already had it . and she's washing the dishes away from them . it looks that way . she's cleaning it you_know .\n",
      "\n",
      "well the little girl waving at somebody . no she's just looking at somebody painting . and he's on //. oh you want me to tell you all of the ? and he's on ... oh I know what it is . why can't I say it ? he's on a ladder . and what she sees on there ? and she sees possibly her mother drying her dishes . and the ... I don't know . well the man's on the stool . and there's a cookie jar up there . and the little girl is looking up at him and holding her finger up as if to say \"/. don't tell them up tear . well he's up on the stool and he's taking some of the out_of the cookie jar . and well the woman is drying dishes . and the water is well I was gonna say it's spilling or falling out or what ? the water's running . okay good .\n",
      "\n",
      "okay the mommy is drying the dishes . the boy is taking a cookie from the cookie jar and he's gonna hand it to his little sister . and the stool is toppling over as the kid is standing on . and the water's dripping out_of the sink . okay ?\n",
      "\n",
      "well this boy is almost falling off of the stool when he's putting up the picture . and she's washing dishes . I guess she wouldn't know . oh my ! her sink is running over too isn't it . is that all or is there more to it ? this one looks kind_of like a ... oh that's a plate I guess . and a cup and saucer . oh this is a lady here . is it or isn't it ? right there . is that a lady ? when I had it this way it looked almost like a lady . oh . she's washing dishes . and she must have dropped one . oh no she let the sink ran over . and he's almost falling off of the stool . and she did something , it looks like .\n",
      "\n",
      "alright . the young man is trying to get cookies from the cookie jar . and she's standing laughing at him and he's falling over . and mama had an accident at the kitchen sink . either she's daydreaming or something wiping a dish . and that is overflowing the sink onto the floor and onto her feet . and the window is open . and there are two cups and a dish on the counter . what else do you want me to tell you ? I_mean what did you want me to say ? what was it again ? anything that's happening ? oh . well the window is open . I guess there's a breeze blowing but that's about all I can see actually happening . very good .\n",
      "\n",
      "cookie jar . well the little boy went up on the little stool and he's half way coming down though he's gonna fall down . and the little girl , they're trying to reach up that cookie jar . you_know he's the one that's trying to get the cookie jar . and the next thing I guess eventually he'll fall down because he's on two legs only out on the darn thing here you_know . and the mother or whatever she is , she's doing the dishes . she's already cleaning the dishes . see , and she's got everything on her own side . so now what else shall I do ? .\n",
      "\n",
      "well the water is running out over the sink and over this . the little boy is going up into the cookie jar but he's on the top of the stool that he's gonna fall off since it's tipping over . the water that's also on the floor that's coming out_of the sink . and let's see here ... no I don't think I see the water in here and that . yeah it goes all the way down into this kitchen floor . here he is the boy who's taking the cookie out_of the cookie jar but steps back on the stool to get to the top of the drawer . that's about all .\n",
      "\n",
      "alright . mama's washing the dishes . the water is running over in the sink . and the children are in the cookie jar and one of them is going to get hurt because he's got the stool . he has nothing to hold onto there . he does have but he's not doing it . the little girl has him interested in the cookie jar . what's he got on his feet ? that's the only thing I can see there . over here poor mama . she's dreaming of diamonds I guess . all the water running out_of the sink .\n",
      "\n",
      "the boy is reaching for a cookie jar but the stool is falling . he was getting a cookie for his sister and for himself . oh_my_gosh look at the sink is overflowing . and at the time she's drying a dish . I don't know why she didn't turn the water off . now what did you tell me ?\n",
      "\n",
      "yeah . the little boy's trying to get into the cookie jar . and a little girl has her hand out for the cookie . and the mother's drying dishes . but they drop something //. oh_no she let the water run over . and the little boy's he's going to fall off the stool if he doesn't ... oh I guess that's a cookie jar , that little girl . the little boy is gonna fall off the stool if he doesn't be careful . it's the water . I said that . the water was running over the sink . you_know sinks . and what else is there ? there are a few dishes there .\n",
      "\n",
      "they're baking . making a mess out_of the place . by no neatness . yes there's a few accidents . the little boy is standing on a stool which is crooked . the lady has water running out_of her sink and towel in her hand which is dangerous . the cookie jar is coming down . and the place is very pretty .\n",
      "\n",
      "cookie jar . well he's on a stool but he's going overboard . and the water's running out_of the sink . and let's see . yes .\n",
      "\n",
      "the water's overflowing out_of the sink . and he's falling off the stool . that's it . he's falling off the stool and he's reaching for that dishes or something . and the girl is just looking up . and that's all .\n",
      "\n"
     ]
    }
   ],
   "source": [
    "for t in ad_new:\n",
    "    if '_' in t:\n",
    "        print(t+'\\n')"
   ]
  },
  {
   "cell_type": "markdown",
   "id": "33346f10",
   "metadata": {},
   "source": [
    "[' ', \\ # 0\n",
    " '!', '?', '\"', \\ # 1\n",
    " '/', # 2\n",
    " \"'\", \\ # 3\n",
    " ',', '.', '‡', '„', \\ # 4\n",
    " '_'] # 5"
   ]
  },
  {
   "cell_type": "code",
   "execution_count": 7,
   "id": "fc7568cc",
   "metadata": {},
   "outputs": [
    {
     "name": "stdout",
     "output_type": "stream",
     "text": [
      "{' ': 0, '!': 1, '\"': 1, \"'\": 3, ',': 4, '.': 4, '/': 2, '?': 1, 'A': 6, 'B': 7, 'C': 8, 'D': 9, 'E': 10, 'H': 13, 'I': 14, 'J': 15, 'K': 16, 'L': 17, 'S': 24, 'T': 25, 'V': 27, '_': 5, 'a': 6, 'b': 7, 'c': 8, 'd': 9, 'e': 10, 'f': 11, 'g': 12, 'h': 13, 'i': 14, 'j': 15, 'k': 16, 'l': 17, 'm': 18, 'n': 19, 'o': 20, 'p': 21, 'q': 22, 'r': 23, 's': 24, 't': 25, 'u': 26, 'v': 27, 'w': 28, 'x': 29, 'y': 30, 'z': 31, '„': 4, '‡': 4}\n"
     ]
    }
   ],
   "source": [
    "for k in ['!', '?', '\"']:\n",
    "    hra_id[k] = 1\n",
    "hra_id['/'] = 2\n",
    "hra_id[\"'\"] = 3\n",
    "for k in [',', '.', '‡', '„']:\n",
    "    hra_id[k] = 4\n",
    "hra_id['_'] = 5\n",
    "\n",
    "alp_id = [int(x+6) for x in range(26)]\n",
    "for n,a in enumerate([chr(x) for x in range(97, 123)]):\n",
    "    if a in hra_id.keys():\n",
    "        hra_id[a] = alp_id[n]\n",
    "\n",
    "for n,a in enumerate([chr(x) for x in range(65, 91)]):\n",
    "    if a in hra_id.keys():\n",
    "        hra_id[a] = alp_id[n]\n",
    "        \n",
    "print(hra_id)"
   ]
  },
  {
   "cell_type": "code",
   "execution_count": 72,
   "id": "8f420f60",
   "metadata": {},
   "outputs": [],
   "source": [
    "hc_hra = []\n",
    "for t in hc_new:\n",
    "    thra = []\n",
    "    for c in t:\n",
    "        thra.append(hra_id[c])\n",
    "    hc_hra.append(thra)\n",
    "\n",
    "ad_hra = []\n",
    "for t in ad_new:\n",
    "    thra = []\n",
    "    for c in t:\n",
    "        thra.append(hra_id[c])\n",
    "    ad_hra.append(thra)"
   ]
  },
  {
   "cell_type": "code",
   "execution_count": 73,
   "id": "94aa6ebe",
   "metadata": {},
   "outputs": [],
   "source": [
    "save_dir1 = Path.cwd()/'data'/'hra'/'control'\n",
    "save_dir1.mkdir(parents=True, exist_ok=True)\n",
    "save_dir2 = Path.cwd()/'data'/'hra'/'dementia'\n",
    "save_dir2.mkdir(parents=True, exist_ok=True)\n",
    "\n",
    "for n,t in enumerate(hc_hra):\n",
    "    tnew = pd.DataFrame({'x':t})\n",
    "    tnew.index.name = 'index'\n",
    "    tnew.to_csv(save_dir1/(str(n)+'.csv'))\n",
    "    \n",
    "for n,t in enumerate(ad_hra):\n",
    "    tnew = pd.DataFrame({'x':t})\n",
    "    tnew.index.name = 'index'\n",
    "    tnew.to_csv(save_dir2/(str(n)+'.csv'))"
   ]
  },
  {
   "cell_type": "code",
   "execution_count": 40,
   "id": "86103055",
   "metadata": {},
   "outputs": [],
   "source": [
    "save_dir = Path.cwd()/'data'/'hra'\n",
    "\n",
    "hc_hra = []\n",
    "for t in hc_new:\n",
    "    thra = []\n",
    "    for c in t:\n",
    "        thra.append(str(hra_id[c]))\n",
    "    hc_hra.append(' '.join(thra))\n",
    "\n",
    "ad_hra = []\n",
    "for t in ad_new:\n",
    "    thra = []\n",
    "    for c in t:\n",
    "        thra.append(str(hra_id[c]))\n",
    "    ad_hra.append(' '.join(thra))\n",
    "    \n",
    "with open(save_dir/'hc_hra.txt', 'w') as f:\n",
    "    f.writelines('\\n'.join(hc_hra))\n",
    "    \n",
    "with open(save_dir/'ad_hra.txt', 'w') as f:\n",
    "    f.writelines('\\n'.join(ad_hra))"
   ]
  }
 ],
 "metadata": {
  "kernelspec": {
   "display_name": "Python 3 (ipykernel)",
   "language": "python",
   "name": "python3"
  },
  "language_info": {
   "codemirror_mode": {
    "name": "ipython",
    "version": 3
   },
   "file_extension": ".py",
   "mimetype": "text/x-python",
   "name": "python",
   "nbconvert_exporter": "python",
   "pygments_lexer": "ipython3",
   "version": "3.9.7"
  }
 },
 "nbformat": 4,
 "nbformat_minor": 5
}
