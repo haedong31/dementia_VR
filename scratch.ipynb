{
 "cells": [
  {
   "cell_type": "code",
   "execution_count": 1,
   "id": "624d571b",
   "metadata": {},
   "outputs": [],
   "source": [
    "import pylangacq\n",
    "import pandas as pd\n",
    "import matplotlib.pyplot as plt\n",
    "from pathlib import Path"
   ]
  },
  {
   "cell_type": "code",
   "execution_count": 2,
   "id": "131dd30e",
   "metadata": {},
   "outputs": [
    {
     "name": "stdout",
     "output_type": "stream",
     "text": [
      "Number of participants (Control): 243\n",
      "Number of participants (Dementia): 309\n"
     ]
    }
   ],
   "source": [
    "hc = pylangacq.read_chat('./data/DementiaBank/Pitt/Control/cookie') # healthy control\n",
    "ad = pylangacq.read_chat('./data/DementiaBank/Pitt/Dementia/cookie') # Alzheimer's disease\n",
    "\n",
    "print(f'Number of participants (Control): {hc.n_files()}')\n",
    "print(f'Number of participants (Dementia): {ad.n_files()}')"
   ]
  },
  {
   "cell_type": "markdown",
   "id": "58bba53e",
   "metadata": {},
   "source": [
    "## Histograms of utterances and wordsm"
   ]
  },
  {
   "cell_type": "code",
   "execution_count": 3,
   "id": "f39579ae",
   "metadata": {},
   "outputs": [],
   "source": [
    "numu_hc = []\n",
    "numw_hc = []\n",
    "for f in hc:\n",
    "    numu_hc.append(len(f.utterances(participants='PAR')))\n",
    "    numw_hc.append(len(f.words(participants='PAR')))\n",
    "    \n",
    "numu_ad = []\n",
    "numw_ad = []\n",
    "for f in ad:\n",
    "    numu_ad.append(len(f.utterances(participants='PAR')))\n",
    "    numw_ad.append(len(f.words(participants='PAR')))"
   ]
  },
  {
   "cell_type": "code",
   "execution_count": 4,
   "id": "9d51af7f",
   "metadata": {},
   "outputs": [
    {
     "data": {
      "text/plain": [
       "Text(0.5, 1.0, 'Histogram of Utterances')"
      ]
     },
     "execution_count": 4,
     "metadata": {},
     "output_type": "execute_result"
    },
    {
     "data": {
      "image/png": "[encoded data removed]",
      "text/plain": [
       "<Figure size 432x288 with 1 Axes>"
      ]
     },
     "metadata": {
      "needs_background": "light"
     },
     "output_type": "display_data"
    }
   ],
   "source": [
    "plt.hist(numu_hc, bins='auto', color='blue', alpha=0.5, rwidth=0.9)\n",
    "plt.hist(numu_ad, bins='auto', color='red', alpha=0.5, rwidth=0.9)\n",
    "plt.grid()\n",
    "plt.legend(['Control','Dementia'])\n",
    "plt.xlabel('Number of utterances')\n",
    "plt.ylabel('Frequency')\n",
    "plt.title('Histogram of Utterances')"
   ]
  },
  {
   "cell_type": "code",
   "execution_count": 5,
   "id": "166f54b4",
   "metadata": {},
   "outputs": [
    {
     "data": {
      "text/plain": [
       "Text(0.5, 1.0, 'Histogram of Words')"
      ]
     },
     "execution_count": 5,
     "metadata": {},
     "output_type": "execute_result"
    },
    {
     "data": {
      "image/png": "[encoded data removed]",
      "text/plain": [
       "<Figure size 432x288 with 1 Axes>"
      ]
     },
     "metadata": {
      "needs_background": "light"
     },
     "output_type": "display_data"
    }
   ],
   "source": [
    "plt.hist(numw_hc, bins='auto', color='blue', alpha=0.5, rwidth=0.9)\n",
    "plt.hist(numw_ad, bins='auto', color='red', alpha=0.5, rwidth=0.9)\n",
    "plt.grid()\n",
    "plt.legend(['Control','Dementia'])\n",
    "plt.xlabel('Number of words')\n",
    "plt.ylabel('Frequency')\n",
    "plt.title('Histogram of Words')"
   ]
  },
  {
   "cell_type": "markdown",
   "id": "994770fe",
   "metadata": {},
   "source": [
    "# Check vocabulary"
   ]
  },
  {
   "cell_type": "code",
   "execution_count": 6,
   "id": "d5cc0b4a",
   "metadata": {},
   "outputs": [],
   "source": [
    "vocab_hc = []\n",
    "for f in hc:\n",
    "    words = f.words(participants='PAR')\n",
    "    for w in words:\n",
    "        if w not in vocab_hc:\n",
    "            vocab_hc.append(w)\n",
    "            \n",
    "vocab_ad = []\n",
    "for f in ad:\n",
    "    words = f.words(participants='PAR')\n",
    "    for w in words:\n",
    "        if w not in vocab_ad:\n",
    "            vocab_ad.append(w)"
   ]
  },
  {
   "cell_type": "code",
   "execution_count": 7,
   "id": "6a8e31d6",
   "metadata": {},
   "outputs": [
    {
     "name": "stdout",
     "output_type": "stream",
     "text": [
      "Vocab size (Control): 1166\n",
      "Vocab size (Dementia): 1347\n"
     ]
    }
   ],
   "source": [
    "print(f'Vocab size (Control): {len(vocab_hc)}')\n",
    "print(f'Vocab size (Dementia): {len(vocab_ad)}')"
   ]
  },
  {
   "cell_type": "code",
   "execution_count": 8,
   "id": "1fd9b02f",
   "metadata": {},
   "outputs": [
    {
     "name": "stdout",
     "output_type": "stream",
     "text": [
      "Frequent words in Control\n",
      "[('.', 2847), ('the', 2787), ('and', 1111), ('is', 1061), ('a', 745), ('to', 480), ('cookie', 437), ('on', 417), ('I', 371), ('in', 365), ('sink', 289), ('her', 289), ('stool', 284), ('dishes', 280), (\"she's\", 266), ('over', 253), ('water', 248), ('jar', 237), ('it', 221), ('boy', 215), ('little', 214), (\"that's\", 210), ('mother', 208), ('of', 208), ('see', 208), ('girl', 200), (\"he's\", 195), ('drying', 185), ('that', 185), ('window', 179)]\n",
      "Frequent words in Dementia\n",
      "[('.', 3313), ('the', 2765), ('and', 1469), ('is', 798), ('a', 726), ('I', 531), ('to', 481), ('on', 469), ('cookie', 417), (\"she's\", 374), ('in', 347), ('dishes', 346), ('over', 331), ('it', 331), ('jar', 316), ('stool', 307), ('that', 301), (\"he's\", 291), ('?', 291), ('water', 273), ('little', 271), ('sink', 253), ('her', 246), ('boy', 229), ('of', 212), ('see', 211), ('she', 208), ('up', 206), ('cookies', 205), (\"that's\", 199)]\n"
     ]
    }
   ],
   "source": [
    "num_display = 30\n",
    "\n",
    "wfreq_hc = hc.word_frequencies(participants='PAR')\n",
    "print('Frequent words in Control')\n",
    "print(wfreq_hc.most_common(num_display))\n",
    "\n",
    "wfreq_ad = ad.word_frequencies(participants='PAR')\n",
    "print('Frequent words in Dementia')\n",
    "print(wfreq_ad.most_common(num_display))"
   ]
  },
  {
   "cell_type": "markdown",
   "id": "3a97cd35",
   "metadata": {},
   "source": [
    "## Save data for HRA "
   ]
  },
  {
   "cell_type": "code",
   "execution_count": 8,
   "id": "704370d2",
   "metadata": {},
   "outputs": [],
   "source": [
    "hc_new = []\n",
    "for f in hc:\n",
    "    t = f.words(by_utterances=True, participants='PAR') # one transcript by utterances\n",
    "    tnew = []\n",
    "    for u in t:\n",
    "        tnew.append(' '.join(u))\n",
    "    hc_new.append('%'.join(tnew))\n",
    "    \n",
    "ad_new = []\n",
    "for f in ad:\n",
    "    t = f.words(by_utterances=True, participants='PAR')\n",
    "    tnew = []\n",
    "    for u in t:\n",
    "        tnew.append(' '.join(u))\n",
    "    ad_new.append('%'.join(tnew))"
   ]
  },
  {
   "cell_type": "markdown",
   "id": "866d193f",
   "metadata": {},
   "source": [
    "### Encode characters with numbers"
   ]
  },
  {
   "cell_type": "code",
   "execution_count": 9,
   "id": "654bab49",
   "metadata": {},
   "outputs": [
    {
     "name": "stdout",
     "output_type": "stream",
     "text": [
      "['t', 'h', 'e', ' ', 's', 'c', 'n', 'i', 'k', '.', '%', 'm', 'o', 'r', 'w', 'p', 'g', 'd', 'a', 'u', 'f', 'l', 'b', 'y', 'j', \"'\", 'v', 'z', 'x', '?', 'I', ',', '_', '‡', '\"', '/', 'q', 'J', '!', 'B', 'D', 'E', 'T', 'K', 'S', 'C', 'V', 'L', 'A', '„', 'H']\n"
     ]
    }
   ],
   "source": [
    "# list of characters in the corpus\n",
    "cha_hc = []\n",
    "for t in hc_new:\n",
    "    for c in t:\n",
    "        if c not in cha_hc:\n",
    "            cha_hc.append(c)\n",
    "            \n",
    "cha_ad = []\n",
    "for t in ad_new:\n",
    "    for c in t:\n",
    "        if c not in cha_ad:\n",
    "            cha_ad.append(c)\n",
    "\n",
    "cha = []\n",
    "for c in cha_hc+cha_ad:\n",
    "    if c not in cha:\n",
    "        cha.append(c)\n",
    "print(cha)"
   ]
  },
  {
   "cell_type": "code",
   "execution_count": 10,
   "id": "cebc579f",
   "metadata": {},
   "outputs": [
    {
     "name": "stdout",
     "output_type": "stream",
     "text": [
      "{' ': 0, '!': 1, '\"': 2, '%': 3, \"'\": 4, ',': 5, '.': 6, '/': 7, '?': 8, 'A': 9, 'B': 10, 'C': 11, 'D': 12, 'E': 13, 'H': 14, 'I': 15, 'J': 16, 'K': 17, 'L': 18, 'S': 19, 'T': 20, 'V': 21, '_': 22, 'a': 23, 'b': 24, 'c': 25, 'd': 26, 'e': 27, 'f': 28, 'g': 29, 'h': 30, 'i': 31, 'j': 32, 'k': 33, 'l': 34, 'm': 35, 'n': 36, 'o': 37, 'p': 38, 'q': 39, 'r': 40, 's': 41, 't': 42, 'u': 43, 'v': 44, 'w': 45, 'x': 46, 'y': 47, 'z': 48, '„': 49, '‡': 50}\n"
     ]
    }
   ],
   "source": [
    "cha = sorted(cha)\n",
    "hra_id = {}\n",
    "for i,c in enumerate(cha):\n",
    "    hra_id[c] = i\n",
    "print(hra_id)"
   ]
  },
  {
   "cell_type": "code",
   "execution_count": 21,
   "id": "8f420f60",
   "metadata": {},
   "outputs": [],
   "source": [
    "hc_hra = []\n",
    "for t in hc_new:\n",
    "    thra = []\n",
    "    for c in t:\n",
    "        thra.append(hra_id[c])\n",
    "    hc_hra.append(thra)\n",
    "\n",
    "ad_hra = []\n",
    "for t in ad_new:\n",
    "    thra = []\n",
    "    for c in t:\n",
    "        thra.append(hra_id[c])\n",
    "    ad_hra.append(thra)"
   ]
  },
  {
   "cell_type": "code",
   "execution_count": 38,
   "id": "94aa6ebe",
   "metadata": {},
   "outputs": [],
   "source": [
    "save_dir1 = Path.cwd()/'data'/'hra'/'control'\n",
    "save_dir1.mkdir(parents=True, exist_ok=True)\n",
    "save_dir2 = Path.cwd()/'data'/'hra'/'dementia'\n",
    "save_dir2.mkdir(parents=True, exist_ok=True)\n",
    "\n",
    "for n,t in enumerate(hc_hra):\n",
    "    tnew = pd.DataFrame({'x':t})\n",
    "    tnew.index.name = 'index'\n",
    "    tnew.to_csv(save_dir1/(str(n)+'.csv'))\n",
    "    \n",
    "for n,t in enumerate(ad_hra):\n",
    "    tnew = pd.DataFrame({'x':t})\n",
    "    tnew.index.name = 'index'\n",
    "    tnew.to_csv(save_dir2/(str(n)+'.csv'))"
   ]
  },
  {
   "cell_type": "code",
   "execution_count": 40,
   "id": "86103055",
   "metadata": {},
   "outputs": [],
   "source": [
    "save_dir = Path.cwd()/'data'/'hra'\n",
    "\n",
    "hc_hra = []\n",
    "for t in hc_new:\n",
    "    thra = []\n",
    "    for c in t:\n",
    "        thra.append(str(hra_id[c]))\n",
    "    hc_hra.append(' '.join(thra))\n",
    "\n",
    "ad_hra = []\n",
    "for t in ad_new:\n",
    "    thra = []\n",
    "    for c in t:\n",
    "        thra.append(str(hra_id[c]))\n",
    "    ad_hra.append(' '.join(thra))\n",
    "    \n",
    "with open(save_dir/'hc_hra.txt', 'w') as f:\n",
    "    f.writelines('\\n'.join(hc_hra))\n",
    "    \n",
    "with open(save_dir/'ad_hra.txt', 'w') as f:\n",
    "    f.writelines('\\n'.join(ad_hra))"
   ]
  }
 ],
 "metadata": {
  "kernelspec": {
   "display_name": "Python 3 (ipykernel)",
   "language": "python",
   "name": "python3"
  },
  "language_info": {
   "codemirror_mode": {
    "name": "ipython",
    "version": 3
   },
   "file_extension": ".py",
   "mimetype": "text/x-python",
   "name": "python",
   "nbconvert_exporter": "python",
   "pygments_lexer": "ipython3",
   "version": "3.9.7"
  }
 },
 "nbformat": 4,
 "nbformat_minor": 5
}
